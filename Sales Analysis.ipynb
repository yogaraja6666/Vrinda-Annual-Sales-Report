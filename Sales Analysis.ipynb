{
 "cells": [
  {
   "cell_type": "markdown",
   "id": "96976bd3",
   "metadata": {},
   "source": [
    "# Vrinda Store Analysis"
   ]
  },
  {
   "cell_type": "markdown",
   "id": "f1f9a662",
   "metadata": {},
   "source": [
    "Project - 2022 Annual Report"
   ]
  },
  {
   "cell_type": "code",
   "execution_count": 87,
   "id": "96a7a792",
   "metadata": {},
   "outputs": [],
   "source": [
    "import pandas as pd\n",
    "import numpy as np\n",
    "import matplotlib.pyplot as plt"
   ]
  },
  {
   "cell_type": "code",
   "execution_count": 57,
   "id": "560c1161",
   "metadata": {},
   "outputs": [
    {
     "data": {
      "text/html": [
       "<div>\n",
       "<style scoped>\n",
       "    .dataframe tbody tr th:only-of-type {\n",
       "        vertical-align: middle;\n",
       "    }\n",
       "\n",
       "    .dataframe tbody tr th {\n",
       "        vertical-align: top;\n",
       "    }\n",
       "\n",
       "    .dataframe thead th {\n",
       "        text-align: right;\n",
       "    }\n",
       "</style>\n",
       "<table border=\"1\" class=\"dataframe\">\n",
       "  <thead>\n",
       "    <tr style=\"text-align: right;\">\n",
       "      <th></th>\n",
       "      <th>index</th>\n",
       "      <th>Order ID</th>\n",
       "      <th>Cust ID</th>\n",
       "      <th>Gender</th>\n",
       "      <th>Age</th>\n",
       "      <th>Date</th>\n",
       "      <th>Status</th>\n",
       "      <th>Channel</th>\n",
       "      <th>SKU</th>\n",
       "      <th>Category</th>\n",
       "      <th>Size</th>\n",
       "      <th>Qty</th>\n",
       "      <th>currency</th>\n",
       "      <th>Amount</th>\n",
       "      <th>ship-city</th>\n",
       "      <th>ship-state</th>\n",
       "      <th>ship-postal-code</th>\n",
       "      <th>ship-country</th>\n",
       "      <th>B2B</th>\n",
       "    </tr>\n",
       "  </thead>\n",
       "  <tbody>\n",
       "    <tr>\n",
       "      <th>0</th>\n",
       "      <td>1</td>\n",
       "      <td>171-1029312-3038738</td>\n",
       "      <td>1029312</td>\n",
       "      <td>Women</td>\n",
       "      <td>44</td>\n",
       "      <td>2022-12-04</td>\n",
       "      <td>Delivered</td>\n",
       "      <td>Myntra</td>\n",
       "      <td>JNE1233-BLUE-KR-031-XXL</td>\n",
       "      <td>kurta</td>\n",
       "      <td>XXL</td>\n",
       "      <td>1</td>\n",
       "      <td>INR</td>\n",
       "      <td>376</td>\n",
       "      <td>MOHALI</td>\n",
       "      <td>PUNJAB</td>\n",
       "      <td>140301</td>\n",
       "      <td>IN</td>\n",
       "      <td>False</td>\n",
       "    </tr>\n",
       "    <tr>\n",
       "      <th>1</th>\n",
       "      <td>2</td>\n",
       "      <td>405-2183842-2225946</td>\n",
       "      <td>2183842</td>\n",
       "      <td>Women</td>\n",
       "      <td>29</td>\n",
       "      <td>2022-12-04</td>\n",
       "      <td>Delivered</td>\n",
       "      <td>Ajio</td>\n",
       "      <td>SET414-KR-NP-L</td>\n",
       "      <td>Set</td>\n",
       "      <td>L</td>\n",
       "      <td>1</td>\n",
       "      <td>INR</td>\n",
       "      <td>1449</td>\n",
       "      <td>GURUGRAM</td>\n",
       "      <td>HARYANA</td>\n",
       "      <td>122002</td>\n",
       "      <td>IN</td>\n",
       "      <td>False</td>\n",
       "    </tr>\n",
       "    <tr>\n",
       "      <th>2</th>\n",
       "      <td>3</td>\n",
       "      <td>171-1641533-8921966</td>\n",
       "      <td>1641533</td>\n",
       "      <td>Women</td>\n",
       "      <td>67</td>\n",
       "      <td>2022-12-04</td>\n",
       "      <td>Delivered</td>\n",
       "      <td>Myntra</td>\n",
       "      <td>SET261-KR-PP-S</td>\n",
       "      <td>Set</td>\n",
       "      <td>S</td>\n",
       "      <td>1</td>\n",
       "      <td>INR</td>\n",
       "      <td>453</td>\n",
       "      <td>KOLKATA</td>\n",
       "      <td>WEST BENGAL</td>\n",
       "      <td>700029</td>\n",
       "      <td>IN</td>\n",
       "      <td>False</td>\n",
       "    </tr>\n",
       "    <tr>\n",
       "      <th>3</th>\n",
       "      <td>4</td>\n",
       "      <td>404-7490807-6300351</td>\n",
       "      <td>7490807</td>\n",
       "      <td>Women</td>\n",
       "      <td>20</td>\n",
       "      <td>2022-12-04</td>\n",
       "      <td>Delivered</td>\n",
       "      <td>Amazon</td>\n",
       "      <td>SET110-KR-PP-M</td>\n",
       "      <td>Set</td>\n",
       "      <td>M</td>\n",
       "      <td>1</td>\n",
       "      <td>INR</td>\n",
       "      <td>729</td>\n",
       "      <td>THANJAVUR</td>\n",
       "      <td>TAMIL NADU</td>\n",
       "      <td>613007</td>\n",
       "      <td>IN</td>\n",
       "      <td>False</td>\n",
       "    </tr>\n",
       "    <tr>\n",
       "      <th>4</th>\n",
       "      <td>5</td>\n",
       "      <td>403-9293516-4577154</td>\n",
       "      <td>9293516</td>\n",
       "      <td>Women</td>\n",
       "      <td>62</td>\n",
       "      <td>2022-12-04</td>\n",
       "      <td>Delivered</td>\n",
       "      <td>Myntra</td>\n",
       "      <td>JNE2294-KR-A-XXL</td>\n",
       "      <td>kurta</td>\n",
       "      <td>XXL</td>\n",
       "      <td>1</td>\n",
       "      <td>INR</td>\n",
       "      <td>544</td>\n",
       "      <td>GURUGRAM</td>\n",
       "      <td>HARYANA</td>\n",
       "      <td>122001</td>\n",
       "      <td>IN</td>\n",
       "      <td>False</td>\n",
       "    </tr>\n",
       "  </tbody>\n",
       "</table>\n",
       "</div>"
      ],
      "text/plain": [
       "   index             Order ID  Cust ID Gender  Age       Date     Status  \\\n",
       "0      1  171-1029312-3038738  1029312  Women   44 2022-12-04  Delivered   \n",
       "1      2  405-2183842-2225946  2183842  Women   29 2022-12-04  Delivered   \n",
       "2      3  171-1641533-8921966  1641533  Women   67 2022-12-04  Delivered   \n",
       "3      4  404-7490807-6300351  7490807  Women   20 2022-12-04  Delivered   \n",
       "4      5  403-9293516-4577154  9293516  Women   62 2022-12-04  Delivered   \n",
       "\n",
       "  Channel                       SKU Category Size Qty currency  Amount  \\\n",
       "0   Myntra  JNE1233-BLUE-KR-031-XXL    kurta  XXL   1      INR     376   \n",
       "1     Ajio           SET414-KR-NP-L      Set    L   1      INR    1449   \n",
       "2   Myntra           SET261-KR-PP-S      Set    S   1      INR     453   \n",
       "3   Amazon           SET110-KR-PP-M      Set    M   1      INR     729   \n",
       "4   Myntra         JNE2294-KR-A-XXL    kurta  XXL   1      INR     544   \n",
       "\n",
       "   ship-city   ship-state  ship-postal-code ship-country    B2B  \n",
       "0     MOHALI       PUNJAB            140301           IN  False  \n",
       "1   GURUGRAM      HARYANA            122002           IN  False  \n",
       "2    KOLKATA  WEST BENGAL            700029           IN  False  \n",
       "3  THANJAVUR   TAMIL NADU            613007           IN  False  \n",
       "4   GURUGRAM      HARYANA            122001           IN  False  "
      ]
     },
     "execution_count": 57,
     "metadata": {},
     "output_type": "execute_result"
    }
   ],
   "source": [
    "df= pd.read_excel(\"Vrinda Store Data Analysis.xlsx\")\n",
    "df.head(5)"
   ]
  },
  {
   "cell_type": "markdown",
   "id": "af5ad8ea",
   "metadata": {},
   "source": [
    "# Data Cleaning"
   ]
  },
  {
   "cell_type": "code",
   "execution_count": 59,
   "id": "f59991c2",
   "metadata": {},
   "outputs": [
    {
     "data": {
      "text/plain": [
       "index               0\n",
       "Order ID            0\n",
       "Cust ID             0\n",
       "Gender              0\n",
       "Age                 0\n",
       "Date                0\n",
       "Status              0\n",
       "Channel             0\n",
       "SKU                 0\n",
       "Category            0\n",
       "Size                0\n",
       "Qty                 0\n",
       "currency            0\n",
       "Amount              0\n",
       "ship-city           0\n",
       "ship-state          0\n",
       "ship-postal-code    0\n",
       "ship-country        0\n",
       "B2B                 0\n",
       "dtype: int64"
      ]
     },
     "execution_count": 59,
     "metadata": {},
     "output_type": "execute_result"
    }
   ],
   "source": [
    "df.isnull().sum()"
   ]
  },
  {
   "cell_type": "code",
   "execution_count": 60,
   "id": "720f32ae",
   "metadata": {},
   "outputs": [
    {
     "data": {
      "text/plain": [
       "Index(['index', 'Order ID', 'Cust ID', 'Gender', 'Age', 'Date', 'Status',\n",
       "       'Channel ', 'SKU', 'Category', 'Size', 'Qty', 'currency', 'Amount',\n",
       "       'ship-city', 'ship-state', 'ship-postal-code', 'ship-country', 'B2B'],\n",
       "      dtype='object')"
      ]
     },
     "execution_count": 60,
     "metadata": {},
     "output_type": "execute_result"
    }
   ],
   "source": [
    "df.columns"
   ]
  },
  {
   "cell_type": "code",
   "execution_count": 63,
   "id": "1cbb1f80",
   "metadata": {},
   "outputs": [
    {
     "data": {
      "text/plain": [
       "array(['Women', 'Men', 'W', 'M'], dtype=object)"
      ]
     },
     "execution_count": 63,
     "metadata": {},
     "output_type": "execute_result"
    }
   ],
   "source": [
    "df['Gender'].unique()"
   ]
  },
  {
   "cell_type": "markdown",
   "id": "035e6808",
   "metadata": {},
   "source": [
    "Replacing 'M' and 'W'"
   ]
  },
  {
   "cell_type": "code",
   "execution_count": 67,
   "id": "d1235885",
   "metadata": {},
   "outputs": [
    {
     "data": {
      "text/plain": [
       "array(['Women', 'Men'], dtype=object)"
      ]
     },
     "execution_count": 67,
     "metadata": {},
     "output_type": "execute_result"
    }
   ],
   "source": [
    "df['Gender'].replace({'M':'Men','W':'Women'}, inplace=True)\n",
    "df['Gender'].unique()"
   ]
  },
  {
   "cell_type": "code",
   "execution_count": 71,
   "id": "ff15814c",
   "metadata": {},
   "outputs": [
    {
     "name": "stdout",
     "output_type": "stream",
     "text": [
      "The 'Age' column does not contain values with alphabets.\n"
     ]
    }
   ],
   "source": [
    "contains_alphabets = df['Age'].apply(lambda x: any(char.isalpha() for char in str(x)))\n",
    "\n",
    "# Display the result\n",
    "if contains_alphabets.any():\n",
    "    print(\"The 'Age' column contains values with alphabets.\")\n",
    "else:\n",
    "    print(\"The 'Age' column does not contain values with alphabets.\")"
   ]
  },
  {
   "cell_type": "code",
   "execution_count": 74,
   "id": "457a81e3",
   "metadata": {},
   "outputs": [
    {
     "name": "stdout",
     "output_type": "stream",
     "text": [
      "The 'Date' column does not contain values with alphabets.\n"
     ]
    }
   ],
   "source": [
    "contains_alphabets = df['Date'].apply(lambda x: any(char.isalpha() for char in str(x)))\n",
    "\n",
    "# Display the result\n",
    "if contains_alphabets.any():\n",
    "    print(\"The 'Date' column contains values with alphabets.\")\n",
    "else:\n",
    "    print(\"The 'Date' column does not contain values with alphabets.\")"
   ]
  },
  {
   "cell_type": "code",
   "execution_count": 75,
   "id": "530a21dd",
   "metadata": {},
   "outputs": [
    {
     "data": {
      "text/plain": [
       "array(['Delivered', 'Refunded', 'Cancelled', 'Returned'], dtype=object)"
      ]
     },
     "execution_count": 75,
     "metadata": {},
     "output_type": "execute_result"
    }
   ],
   "source": [
    "df['Status'].unique()"
   ]
  },
  {
   "cell_type": "code",
   "execution_count": 76,
   "id": "1e91ab32",
   "metadata": {},
   "outputs": [
    {
     "data": {
      "text/plain": [
       "array(['XXL', 'L', 'S', 'M', 'XL', 'XS', '3XL', 'Free', '6XL', '4XL',\n",
       "       '5XL'], dtype=object)"
      ]
     },
     "execution_count": 76,
     "metadata": {},
     "output_type": "execute_result"
    }
   ],
   "source": [
    "df['Size'].unique()"
   ]
  },
  {
   "cell_type": "code",
   "execution_count": 77,
   "id": "e2b4e613",
   "metadata": {},
   "outputs": [
    {
     "data": {
      "text/plain": [
       "array([1, 'One', 2, 4, 3, 'Two', 5], dtype=object)"
      ]
     },
     "execution_count": 77,
     "metadata": {},
     "output_type": "execute_result"
    }
   ],
   "source": [
    "df['Qty'].unique()"
   ]
  },
  {
   "cell_type": "markdown",
   "id": "00cfd707",
   "metadata": {},
   "source": [
    "Replace 'One' and 'Two'"
   ]
  },
  {
   "cell_type": "code",
   "execution_count": 79,
   "id": "083686f7",
   "metadata": {},
   "outputs": [
    {
     "data": {
      "text/plain": [
       "array([1, 2, 4, 3, 5], dtype=int64)"
      ]
     },
     "execution_count": 79,
     "metadata": {},
     "output_type": "execute_result"
    }
   ],
   "source": [
    "df['Qty'].replace({'One':1,'Two':2},inplace=True)\n",
    "df['Qty'].unique()"
   ]
  },
  {
   "cell_type": "code",
   "execution_count": 80,
   "id": "5a365e53",
   "metadata": {},
   "outputs": [
    {
     "data": {
      "text/plain": [
       "array(['IN'], dtype=object)"
      ]
     },
     "execution_count": 80,
     "metadata": {},
     "output_type": "execute_result"
    }
   ],
   "source": [
    "df['ship-country'].unique()"
   ]
  },
  {
   "cell_type": "markdown",
   "id": "5427e9a7",
   "metadata": {},
   "source": [
    "# Data Preprocessing"
   ]
  },
  {
   "cell_type": "markdown",
   "id": "d2bb6fab",
   "metadata": {},
   "source": [
    "Create new column for age group for senior, adult, teenage"
   ]
  },
  {
   "cell_type": "code",
   "execution_count": 83,
   "id": "8c226931",
   "metadata": {},
   "outputs": [],
   "source": [
    "df['Age_Category'] = np.where(df['Age'] >= 50, 'Senior', np.where(df['Age'] >= 30, 'Adult', 'Teenage'))"
   ]
  },
  {
   "cell_type": "code",
   "execution_count": 84,
   "id": "4deb77b9",
   "metadata": {},
   "outputs": [
    {
     "data": {
      "text/plain": [
       "0          Adult\n",
       "1        Teenage\n",
       "2         Senior\n",
       "3        Teenage\n",
       "4         Senior\n",
       "          ...   \n",
       "31042     Senior\n",
       "31043      Adult\n",
       "31044    Teenage\n",
       "31045      Adult\n",
       "31046      Adult\n",
       "Name: Age_Category, Length: 31047, dtype: object"
      ]
     },
     "execution_count": 84,
     "metadata": {},
     "output_type": "execute_result"
    }
   ],
   "source": [
    "df['Age_Category']"
   ]
  },
  {
   "cell_type": "markdown",
   "id": "99934381",
   "metadata": {},
   "source": [
    "create new column name 'Month' month depends on Date column"
   ]
  },
  {
   "cell_type": "code",
   "execution_count": 86,
   "id": "2812a364",
   "metadata": {},
   "outputs": [
    {
     "data": {
      "text/plain": [
       "0        Dec\n",
       "1        Dec\n",
       "2        Dec\n",
       "3        Dec\n",
       "4        Dec\n",
       "        ... \n",
       "31042    Jan\n",
       "31043    Jan\n",
       "31044    Jan\n",
       "31045    Jan\n",
       "31046    Jan\n",
       "Name: Month, Length: 31047, dtype: object"
      ]
     },
     "execution_count": 86,
     "metadata": {},
     "output_type": "execute_result"
    }
   ],
   "source": [
    "df['Month'] = df['Date'].dt.strftime('%b')\n",
    "df['Month']"
   ]
  }
 ],
 "metadata": {
  "kernelspec": {
   "display_name": "Python 3 (ipykernel)",
   "language": "python",
   "name": "python3"
  },
  "language_info": {
   "codemirror_mode": {
    "name": "ipython",
    "version": 3
   },
   "file_extension": ".py",
   "mimetype": "text/x-python",
   "name": "python",
   "nbconvert_exporter": "python",
   "pygments_lexer": "ipython3",
   "version": "3.11.4"
  }
 },
 "nbformat": 4,
 "nbformat_minor": 5
}
